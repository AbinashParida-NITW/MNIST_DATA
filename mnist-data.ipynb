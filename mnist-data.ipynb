{
 "cells": [
  {
   "cell_type": "code",
   "execution_count": 1,
   "id": "62473f6b",
   "metadata": {
    "_cell_guid": "b1076dfc-b9ad-4769-8c92-a6c4dae69d19",
    "_uuid": "8f2839f25d086af736a60e9eeb907d3b93b6e0e5",
    "execution": {
     "iopub.execute_input": "2024-01-30T16:00:39.930227Z",
     "iopub.status.busy": "2024-01-30T16:00:39.929790Z",
     "iopub.status.idle": "2024-01-30T16:00:40.833051Z",
     "shell.execute_reply": "2024-01-30T16:00:40.832306Z"
    },
    "papermill": {
     "duration": 0.926103,
     "end_time": "2024-01-30T16:00:40.836144",
     "exception": false,
     "start_time": "2024-01-30T16:00:39.910041",
     "status": "completed"
    },
    "tags": []
   },
   "outputs": [
    {
     "name": "stdout",
     "output_type": "stream",
     "text": [
      "/kaggle/input/mnist-in-csv/mnist_test.csv\n",
      "/kaggle/input/mnist-in-csv/mnist_train.csv\n"
     ]
    }
   ],
   "source": [
    "# This Python 3 environment comes with many helpful analytics libraries installed\n",
    "# It is defined by the kaggle/python Docker image: https://github.com/kaggle/docker-python\n",
    "# For example, here's several helpful packages to load\n",
    "\n",
    "import numpy as np # linear algebra\n",
    "import pandas as pd # data processing, CSV file I/O (e.g. pd.read_csv)\n",
    "\n",
    "# Input data files are available in the read-only \"../input/\" directory\n",
    "# For example, running this (by clicking run or pressing Shift+Enter) will list all files under the input directory\n",
    "\n",
    "import os\n",
    "for dirname, _, filenames in os.walk('/kaggle/input'):\n",
    "    for filename in filenames:\n",
    "        print(os.path.join(dirname, filename))\n",
    "\n",
    "# You can write up to 20GB to the current directory (/kaggle/working/) that gets preserved as output when you create a version using \"Save & Run All\" \n",
    "# You can also write temporary files to /kaggle/temp/, but they won't be saved outside of the current session"
   ]
  },
  {
   "cell_type": "code",
   "execution_count": 2,
   "id": "3d55eb99",
   "metadata": {
    "execution": {
     "iopub.execute_input": "2024-01-30T16:00:40.877003Z",
     "iopub.status.busy": "2024-01-30T16:00:40.876167Z",
     "iopub.status.idle": "2024-01-30T16:00:42.407385Z",
     "shell.execute_reply": "2024-01-30T16:00:42.406066Z"
    },
    "papermill": {
     "duration": 1.555885,
     "end_time": "2024-01-30T16:00:42.410825",
     "exception": false,
     "start_time": "2024-01-30T16:00:40.854940",
     "status": "completed"
    },
    "tags": []
   },
   "outputs": [],
   "source": [
    "import numpy as np\n",
    "import pandas as pd\n",
    "import matplotlib.pyplot as plt\n",
    "import seaborn as sns\n",
    "import sklearn as sk"
   ]
  },
  {
   "cell_type": "code",
   "execution_count": 3,
   "id": "e7b18ab9",
   "metadata": {
    "execution": {
     "iopub.execute_input": "2024-01-30T16:00:42.450222Z",
     "iopub.status.busy": "2024-01-30T16:00:42.449827Z",
     "iopub.status.idle": "2024-01-30T16:00:42.457184Z",
     "shell.execute_reply": "2024-01-30T16:00:42.455982Z"
    },
    "papermill": {
     "duration": 0.030016,
     "end_time": "2024-01-30T16:00:42.459447",
     "exception": false,
     "start_time": "2024-01-30T16:00:42.429431",
     "status": "completed"
    },
    "tags": []
   },
   "outputs": [],
   "source": [
    "def sort_by_target(mnist):\n",
    "    reorder_train = np.array(sorted([(target, i) for i, target in enumerate(mnist.target[:60000])]))[:, 1]\n",
    "    reorder_test = np.array(sorted([(target, i) for i, target in enumerate(mnist.target[60000:])]))[:, 1]\n",
    "    mnist.data[:60000] = mnist.data[reorder_train]\n",
    "    mnist.target[:60000] = mnist.target[reorder_train]\n",
    "    mnist.data[60000:] = mnist.data[reorder_test + 60000]\n",
    "    mnist.target[60000:] = mnist.target[reorder_test + 60000]"
   ]
  },
  {
   "cell_type": "code",
   "execution_count": 4,
   "id": "045b97c0",
   "metadata": {
    "execution": {
     "iopub.execute_input": "2024-01-30T16:00:42.500448Z",
     "iopub.status.busy": "2024-01-30T16:00:42.499746Z",
     "iopub.status.idle": "2024-01-30T16:01:01.492975Z",
     "shell.execute_reply": "2024-01-30T16:01:01.492012Z"
    },
    "papermill": {
     "duration": 19.015769,
     "end_time": "2024-01-30T16:01:01.495520",
     "exception": false,
     "start_time": "2024-01-30T16:00:42.479751",
     "status": "completed"
    },
    "tags": []
   },
   "outputs": [],
   "source": [
    "try:\n",
    "    from sklearn.datasets import fetch_openml\n",
    "    mnist = fetch_openml('mnist_784', version=1, cache=True, as_frame=False,parser='auto')\n",
    "    mnist.target = mnist.target.astype(np.int8) # fetch_openml() returns targets as strings\n",
    "    sort_by_target(mnist) # fetch_openml() returns an unsorted dataset\n",
    "except ImportError:\n",
    "    from sklearn.datasets import fetch_mldata\n",
    "    mnist = fetch_mldata('MNIST original')"
   ]
  },
  {
   "cell_type": "code",
   "execution_count": 5,
   "id": "8cf37959",
   "metadata": {
    "execution": {
     "iopub.execute_input": "2024-01-30T16:01:01.534586Z",
     "iopub.status.busy": "2024-01-30T16:01:01.533794Z",
     "iopub.status.idle": "2024-01-30T16:01:01.541336Z",
     "shell.execute_reply": "2024-01-30T16:01:01.540346Z"
    },
    "papermill": {
     "duration": 0.029283,
     "end_time": "2024-01-30T16:01:01.543660",
     "exception": false,
     "start_time": "2024-01-30T16:01:01.514377",
     "status": "completed"
    },
    "tags": []
   },
   "outputs": [
    {
     "data": {
      "text/plain": [
       "array([[0, 0, 0, ..., 0, 0, 0],\n",
       "       [0, 0, 0, ..., 0, 0, 0],\n",
       "       [0, 0, 0, ..., 0, 0, 0],\n",
       "       ...,\n",
       "       [0, 0, 0, ..., 0, 0, 0],\n",
       "       [0, 0, 0, ..., 0, 0, 0],\n",
       "       [0, 0, 0, ..., 0, 0, 0]])"
      ]
     },
     "execution_count": 5,
     "metadata": {},
     "output_type": "execute_result"
    }
   ],
   "source": [
    "data=mnist[\"data\"]\n",
    "data"
   ]
  },
  {
   "cell_type": "code",
   "execution_count": 6,
   "id": "1aadc11f",
   "metadata": {
    "execution": {
     "iopub.execute_input": "2024-01-30T16:01:01.638072Z",
     "iopub.status.busy": "2024-01-30T16:01:01.636917Z",
     "iopub.status.idle": "2024-01-30T16:01:01.644205Z",
     "shell.execute_reply": "2024-01-30T16:01:01.643271Z"
    },
    "papermill": {
     "duration": 0.028558,
     "end_time": "2024-01-30T16:01:01.646249",
     "exception": false,
     "start_time": "2024-01-30T16:01:01.617691",
     "status": "completed"
    },
    "tags": []
   },
   "outputs": [
    {
     "data": {
      "text/plain": [
       "array([0, 0, 0, ..., 9, 9, 9], dtype=int8)"
      ]
     },
     "execution_count": 6,
     "metadata": {},
     "output_type": "execute_result"
    }
   ],
   "source": [
    "target=mnist[\"target\"]\n",
    "target"
   ]
  },
  {
   "cell_type": "markdown",
   "id": "d57457cb",
   "metadata": {
    "papermill": {
     "duration": 0.01764,
     "end_time": "2024-01-30T16:01:01.681941",
     "exception": false,
     "start_time": "2024-01-30T16:01:01.664301",
     "status": "completed"
    },
    "tags": []
   },
   "source": [
    "**HERE IMAGES ARE 70000 AND EACH IMAGE HAS 784 COLUMNS SO EACH IMAGE IS(28*28)PIXELS and each column has one pixels intensity**"
   ]
  },
  {
   "cell_type": "code",
   "execution_count": 7,
   "id": "6bdb27cd",
   "metadata": {
    "execution": {
     "iopub.execute_input": "2024-01-30T16:01:01.720279Z",
     "iopub.status.busy": "2024-01-30T16:01:01.719506Z",
     "iopub.status.idle": "2024-01-30T16:01:01.841329Z",
     "shell.execute_reply": "2024-01-30T16:01:01.840009Z"
    },
    "papermill": {
     "duration": 0.144669,
     "end_time": "2024-01-30T16:01:01.844457",
     "exception": false,
     "start_time": "2024-01-30T16:01:01.699788",
     "status": "completed"
    },
    "tags": []
   },
   "outputs": [
    {
     "data": {
      "image/png": "[encoded data removed]",
      "text/plain": [
       "<Figure size 640x480 with 1 Axes>"
      ]
     },
     "metadata": {},
     "output_type": "display_data"
    }
   ],
   "source": [
    "some_digit_array = data[36000]\n",
    "#for square pixel we did 28X28 =784\n",
    "reshape_array=some_digit_array.reshape((28,28))\n",
    "img=plt.imshow(reshape_array,cmap = plt.cm.binary,interpolation=\"nearest\")\n",
    "plt.axis('off')\n",
    "plt.savefig('num5')"
   ]
  },
  {
   "cell_type": "code",
   "execution_count": 8,
   "id": "f3a6859c",
   "metadata": {
    "execution": {
     "iopub.execute_input": "2024-01-30T16:01:01.909216Z",
     "iopub.status.busy": "2024-01-30T16:01:01.908264Z",
     "iopub.status.idle": "2024-01-30T16:01:01.915819Z",
     "shell.execute_reply": "2024-01-30T16:01:01.914800Z"
    },
    "papermill": {
     "duration": 0.043015,
     "end_time": "2024-01-30T16:01:01.918515",
     "exception": false,
     "start_time": "2024-01-30T16:01:01.875500",
     "status": "completed"
    },
    "tags": []
   },
   "outputs": [
    {
     "data": {
      "text/plain": [
       "5"
      ]
     },
     "execution_count": 8,
     "metadata": {},
     "output_type": "execute_result"
    }
   ],
   "source": [
    "target[36000]"
   ]
  },
  {
   "cell_type": "markdown",
   "id": "4c5b7b1b",
   "metadata": {
    "papermill": {
     "duration": 0.018098,
     "end_time": "2024-01-30T16:01:01.959344",
     "exception": false,
     "start_time": "2024-01-30T16:01:01.941246",
     "status": "completed"
    },
    "tags": []
   },
   "source": [
    "**Before duing data analysis we need to split the data into train and test set**"
   ]
  },
  {
   "cell_type": "code",
   "execution_count": 9,
   "id": "69a0cdca",
   "metadata": {
    "execution": {
     "iopub.execute_input": "2024-01-30T16:01:01.997996Z",
     "iopub.status.busy": "2024-01-30T16:01:01.997324Z",
     "iopub.status.idle": "2024-01-30T16:01:02.002005Z",
     "shell.execute_reply": "2024-01-30T16:01:02.001017Z"
    },
    "papermill": {
     "duration": 0.026418,
     "end_time": "2024-01-30T16:01:02.004337",
     "exception": false,
     "start_time": "2024-01-30T16:01:01.977919",
     "status": "completed"
    },
    "tags": []
   },
   "outputs": [],
   "source": [
    "data_train,data_test,target_train,target_test=data[:60000],data[60000:],target[:60000],target[60000:]"
   ]
  },
  {
   "cell_type": "code",
   "execution_count": 10,
   "id": "24b4a8f6",
   "metadata": {
    "execution": {
     "iopub.execute_input": "2024-01-30T16:01:02.044979Z",
     "iopub.status.busy": "2024-01-30T16:01:02.044580Z",
     "iopub.status.idle": "2024-01-30T16:01:02.050188Z",
     "shell.execute_reply": "2024-01-30T16:01:02.049514Z"
    },
    "papermill": {
     "duration": 0.0284,
     "end_time": "2024-01-30T16:01:02.051998",
     "exception": false,
     "start_time": "2024-01-30T16:01:02.023598",
     "status": "completed"
    },
    "tags": []
   },
   "outputs": [
    {
     "data": {
      "text/plain": [
       "(60000, 784)"
      ]
     },
     "execution_count": 10,
     "metadata": {},
     "output_type": "execute_result"
    }
   ],
   "source": [
    "data_train.shape"
   ]
  },
  {
   "cell_type": "code",
   "execution_count": 11,
   "id": "a4b31cb1",
   "metadata": {
    "execution": {
     "iopub.execute_input": "2024-01-30T16:01:02.092123Z",
     "iopub.status.busy": "2024-01-30T16:01:02.091438Z",
     "iopub.status.idle": "2024-01-30T16:01:02.096944Z",
     "shell.execute_reply": "2024-01-30T16:01:02.096089Z"
    },
    "papermill": {
     "duration": 0.027362,
     "end_time": "2024-01-30T16:01:02.098782",
     "exception": false,
     "start_time": "2024-01-30T16:01:02.071420",
     "status": "completed"
    },
    "tags": []
   },
   "outputs": [
    {
     "data": {
      "text/plain": [
       "(10000, 784)"
      ]
     },
     "execution_count": 11,
     "metadata": {},
     "output_type": "execute_result"
    }
   ],
   "source": [
    "data_test.shape"
   ]
  },
  {
   "cell_type": "code",
   "execution_count": 12,
   "id": "021403de",
   "metadata": {
    "execution": {
     "iopub.execute_input": "2024-01-30T16:01:02.137928Z",
     "iopub.status.busy": "2024-01-30T16:01:02.137309Z",
     "iopub.status.idle": "2024-01-30T16:01:02.142400Z",
     "shell.execute_reply": "2024-01-30T16:01:02.141732Z"
    },
    "papermill": {
     "duration": 0.026903,
     "end_time": "2024-01-30T16:01:02.144306",
     "exception": false,
     "start_time": "2024-01-30T16:01:02.117403",
     "status": "completed"
    },
    "tags": []
   },
   "outputs": [
    {
     "data": {
      "text/plain": [
       "array([0, 0, 0, ..., 9, 9, 9], dtype=int8)"
      ]
     },
     "execution_count": 12,
     "metadata": {},
     "output_type": "execute_result"
    }
   ],
   "source": [
    "target_train"
   ]
  },
  {
   "cell_type": "code",
   "execution_count": 13,
   "id": "6b81ff36",
   "metadata": {
    "execution": {
     "iopub.execute_input": "2024-01-30T16:01:02.185117Z",
     "iopub.status.busy": "2024-01-30T16:01:02.184415Z",
     "iopub.status.idle": "2024-01-30T16:01:02.190152Z",
     "shell.execute_reply": "2024-01-30T16:01:02.189389Z"
    },
    "papermill": {
     "duration": 0.028808,
     "end_time": "2024-01-30T16:01:02.192044",
     "exception": false,
     "start_time": "2024-01-30T16:01:02.163236",
     "status": "completed"
    },
    "tags": []
   },
   "outputs": [
    {
     "data": {
      "text/plain": [
       "array([0, 0, 0, ..., 9, 9, 9], dtype=int8)"
      ]
     },
     "execution_count": 13,
     "metadata": {},
     "output_type": "execute_result"
    }
   ],
   "source": [
    "target_test"
   ]
  },
  {
   "cell_type": "code",
   "execution_count": 14,
   "id": "5fde12de",
   "metadata": {
    "execution": {
     "iopub.execute_input": "2024-01-30T16:01:02.231989Z",
     "iopub.status.busy": "2024-01-30T16:01:02.231564Z",
     "iopub.status.idle": "2024-01-30T16:01:02.789543Z",
     "shell.execute_reply": "2024-01-30T16:01:02.788309Z"
    },
    "papermill": {
     "duration": 0.580905,
     "end_time": "2024-01-30T16:01:02.792167",
     "exception": false,
     "start_time": "2024-01-30T16:01:02.211262",
     "status": "completed"
    },
    "tags": []
   },
   "outputs": [],
   "source": [
    "shuffle_index=np.random.permutation(60000)\n",
    "data_train,target_train=data_train[shuffle_index],target_train[shuffle_index]"
   ]
  },
  {
   "cell_type": "code",
   "execution_count": 15,
   "id": "f3fab64b",
   "metadata": {
    "execution": {
     "iopub.execute_input": "2024-01-30T16:01:02.832428Z",
     "iopub.status.busy": "2024-01-30T16:01:02.832031Z",
     "iopub.status.idle": "2024-01-30T16:01:02.838500Z",
     "shell.execute_reply": "2024-01-30T16:01:02.837520Z"
    },
    "papermill": {
     "duration": 0.028916,
     "end_time": "2024-01-30T16:01:02.840726",
     "exception": false,
     "start_time": "2024-01-30T16:01:02.811810",
     "status": "completed"
    },
    "tags": []
   },
   "outputs": [
    {
     "data": {
      "text/plain": [
       "array([15748,  7173,  4129, ...,  1721, 29346, 49105])"
      ]
     },
     "execution_count": 15,
     "metadata": {},
     "output_type": "execute_result"
    }
   ],
   "source": [
    "shuffle_index"
   ]
  },
  {
   "cell_type": "code",
   "execution_count": 16,
   "id": "6dbb90cd",
   "metadata": {
    "execution": {
     "iopub.execute_input": "2024-01-30T16:01:02.881525Z",
     "iopub.status.busy": "2024-01-30T16:01:02.880867Z",
     "iopub.status.idle": "2024-01-30T16:01:02.885461Z",
     "shell.execute_reply": "2024-01-30T16:01:02.884752Z"
    },
    "papermill": {
     "duration": 0.026868,
     "end_time": "2024-01-30T16:01:02.887346",
     "exception": false,
     "start_time": "2024-01-30T16:01:02.860478",
     "status": "completed"
    },
    "tags": []
   },
   "outputs": [],
   "source": [
    "target_train_5=(target_train==5)\n",
    "target_test_5=(target_test==5)"
   ]
  },
  {
   "cell_type": "code",
   "execution_count": 17,
   "id": "1d352da9",
   "metadata": {
    "execution": {
     "iopub.execute_input": "2024-01-30T16:01:02.927369Z",
     "iopub.status.busy": "2024-01-30T16:01:02.926693Z",
     "iopub.status.idle": "2024-01-30T16:01:02.933228Z",
     "shell.execute_reply": "2024-01-30T16:01:02.932267Z"
    },
    "papermill": {
     "duration": 0.028995,
     "end_time": "2024-01-30T16:01:02.935209",
     "exception": false,
     "start_time": "2024-01-30T16:01:02.906214",
     "status": "completed"
    },
    "tags": []
   },
   "outputs": [
    {
     "data": {
      "text/plain": [
       "array([False, False, False, ..., False, False, False])"
      ]
     },
     "execution_count": 17,
     "metadata": {},
     "output_type": "execute_result"
    }
   ],
   "source": [
    "target_train_5"
   ]
  },
  {
   "cell_type": "code",
   "execution_count": 18,
   "id": "bf61c760",
   "metadata": {
    "execution": {
     "iopub.execute_input": "2024-01-30T16:01:02.976034Z",
     "iopub.status.busy": "2024-01-30T16:01:02.975624Z",
     "iopub.status.idle": "2024-01-30T16:01:02.981759Z",
     "shell.execute_reply": "2024-01-30T16:01:02.980717Z"
    },
    "papermill": {
     "duration": 0.029302,
     "end_time": "2024-01-30T16:01:02.983872",
     "exception": false,
     "start_time": "2024-01-30T16:01:02.954570",
     "status": "completed"
    },
    "tags": []
   },
   "outputs": [
    {
     "data": {
      "text/plain": [
       "array([False, False, False, ..., False, False, False])"
      ]
     },
     "execution_count": 18,
     "metadata": {},
     "output_type": "execute_result"
    }
   ],
   "source": [
    "target_test_5"
   ]
  },
  {
   "cell_type": "code",
   "execution_count": 19,
   "id": "3690dc0d",
   "metadata": {
    "execution": {
     "iopub.execute_input": "2024-01-30T16:01:03.024866Z",
     "iopub.status.busy": "2024-01-30T16:01:03.024446Z",
     "iopub.status.idle": "2024-01-30T16:01:20.368670Z",
     "shell.execute_reply": "2024-01-30T16:01:20.367559Z"
    },
    "papermill": {
     "duration": 17.367882,
     "end_time": "2024-01-30T16:01:20.371132",
     "exception": false,
     "start_time": "2024-01-30T16:01:03.003250",
     "status": "completed"
    },
    "tags": []
   },
   "outputs": [
    {
     "data": {
      "text/plain": [
       "array([False])"
      ]
     },
     "execution_count": 19,
     "metadata": {},
     "output_type": "execute_result"
    }
   ],
   "source": [
    "from sklearn.linear_model import SGDClassifier as SGD\n",
    "sgd_clf_obj=SGD(random_state=42)\n",
    "sgd_clf_obj.fit(data_train,target_train_5)\n",
    "sgd_clf_obj.predict([some_digit_array])"
   ]
  },
  {
   "cell_type": "markdown",
   "id": "a796be7a",
   "metadata": {
    "papermill": {
     "duration": 0.019019,
     "end_time": "2024-01-30T16:01:20.409480",
     "exception": false,
     "start_time": "2024-01-30T16:01:20.390461",
     "status": "completed"
    },
    "tags": []
   },
   "source": [
    "**Accuracy measurement**\n",
    "\n",
    "**1.cross_validation**"
   ]
  },
  {
   "cell_type": "code",
   "execution_count": 20,
   "id": "c8a35142",
   "metadata": {
    "execution": {
     "iopub.execute_input": "2024-01-30T16:01:20.451352Z",
     "iopub.status.busy": "2024-01-30T16:01:20.450227Z",
     "iopub.status.idle": "2024-01-30T16:02:30.989484Z",
     "shell.execute_reply": "2024-01-30T16:02:30.988038Z"
    },
    "papermill": {
     "duration": 70.597782,
     "end_time": "2024-01-30T16:02:31.026567",
     "exception": false,
     "start_time": "2024-01-30T16:01:20.428785",
     "status": "completed"
    },
    "tags": []
   },
   "outputs": [
    {
     "data": {
      "text/plain": [
       "array([0.9625    , 0.95458333, 0.93858333, 0.96391667, 0.93108333])"
      ]
     },
     "execution_count": 20,
     "metadata": {},
     "output_type": "execute_result"
    }
   ],
   "source": [
    "from sklearn.model_selection import cross_val_score\n",
    "cross_val_score(sgd_clf_obj,data_train,target_train_5)"
   ]
  },
  {
   "cell_type": "markdown",
   "id": "f0a6c2fc",
   "metadata": {
    "papermill": {
     "duration": 0.033692,
     "end_time": "2024-01-30T16:02:31.093806",
     "exception": false,
     "start_time": "2024-01-30T16:02:31.060114",
     "status": "completed"
    },
    "tags": []
   },
   "source": [
    "**cv takes integer value and run cross_val_score that many times**"
   ]
  },
  {
   "cell_type": "code",
   "execution_count": 21,
   "id": "b0f0ee7c",
   "metadata": {
    "execution": {
     "iopub.execute_input": "2024-01-30T16:02:31.139145Z",
     "iopub.status.busy": "2024-01-30T16:02:31.138142Z",
     "iopub.status.idle": "2024-01-30T16:03:01.465463Z",
     "shell.execute_reply": "2024-01-30T16:03:01.464281Z"
    },
    "papermill": {
     "duration": 30.391121,
     "end_time": "2024-01-30T16:03:01.507930",
     "exception": false,
     "start_time": "2024-01-30T16:02:31.116809",
     "status": "completed"
    },
    "tags": []
   },
   "outputs": [
    {
     "data": {
      "text/plain": [
       "array([0.92565, 0.94565, 0.9665 ])"
      ]
     },
     "execution_count": 21,
     "metadata": {},
     "output_type": "execute_result"
    }
   ],
   "source": [
    "from sklearn.model_selection import cross_val_score\n",
    "cross_val_score(sgd_clf_obj,data_train,target_train_5,cv=3)"
   ]
  },
  {
   "cell_type": "code",
   "execution_count": 22,
   "id": "a07e51d5",
   "metadata": {
    "execution": {
     "iopub.execute_input": "2024-01-30T16:03:01.580558Z",
     "iopub.status.busy": "2024-01-30T16:03:01.580110Z",
     "iopub.status.idle": "2024-01-30T16:04:12.304359Z",
     "shell.execute_reply": "2024-01-30T16:04:12.303013Z"
    },
    "papermill": {
     "duration": 70.796047,
     "end_time": "2024-01-30T16:04:12.339982",
     "exception": false,
     "start_time": "2024-01-30T16:03:01.543935",
     "status": "completed"
    },
    "tags": []
   },
   "outputs": [
    {
     "data": {
      "text/plain": [
       "array([0.9625    , 0.95458333, 0.93858333, 0.96391667, 0.93108333])"
      ]
     },
     "execution_count": 22,
     "metadata": {},
     "output_type": "execute_result"
    }
   ],
   "source": [
    "from sklearn.model_selection import cross_val_score\n",
    "cross_val_score(sgd_clf_obj,data_train,target_train_5,scoring=\"accuracy\")"
   ]
  },
  {
   "cell_type": "code",
   "execution_count": 23,
   "id": "e50a7bb9",
   "metadata": {
    "execution": {
     "iopub.execute_input": "2024-01-30T16:04:12.407219Z",
     "iopub.status.busy": "2024-01-30T16:04:12.406696Z",
     "iopub.status.idle": "2024-01-30T16:04:42.676671Z",
     "shell.execute_reply": "2024-01-30T16:04:42.675639Z"
    },
    "papermill": {
     "duration": 30.340629,
     "end_time": "2024-01-30T16:04:42.713285",
     "exception": false,
     "start_time": "2024-01-30T16:04:12.372656",
     "status": "completed"
    },
    "tags": []
   },
   "outputs": [
    {
     "data": {
      "text/plain": [
       "array([0.92565, 0.94565, 0.9665 ])"
      ]
     },
     "execution_count": 23,
     "metadata": {},
     "output_type": "execute_result"
    }
   ],
   "source": [
    "from sklearn.model_selection import cross_val_score\n",
    "cross_val_score(sgd_clf_obj,data_train,target_train_5,cv=3,scoring=\"accuracy\")"
   ]
  },
  {
   "cell_type": "code",
   "execution_count": 24,
   "id": "8c7acf49",
   "metadata": {
    "execution": {
     "iopub.execute_input": "2024-01-30T16:04:42.783377Z",
     "iopub.status.busy": "2024-01-30T16:04:42.782804Z",
     "iopub.status.idle": "2024-01-30T16:04:42.789860Z",
     "shell.execute_reply": "2024-01-30T16:04:42.789134Z"
    },
    "papermill": {
     "duration": 0.044233,
     "end_time": "2024-01-30T16:04:42.791668",
     "exception": false,
     "start_time": "2024-01-30T16:04:42.747435",
     "status": "completed"
    },
    "tags": []
   },
   "outputs": [],
   "source": [
    "from sklearn.base import BaseEstimator\n",
    "#inheretance \n",
    "class Never_5Classifier(BaseEstimator):\n",
    "    def fit(self,data,y=None):\n",
    "        pass\n",
    "    def predict(self,data):\n",
    "        return np.zeros((len(data),1),dtype=bool) "
   ]
  },
  {
   "cell_type": "code",
   "execution_count": 25,
   "id": "714cfa31",
   "metadata": {
    "execution": {
     "iopub.execute_input": "2024-01-30T16:04:42.832964Z",
     "iopub.status.busy": "2024-01-30T16:04:42.832295Z",
     "iopub.status.idle": "2024-01-30T16:04:42.836326Z",
     "shell.execute_reply": "2024-01-30T16:04:42.835479Z"
    },
    "papermill": {
     "duration": 0.026744,
     "end_time": "2024-01-30T16:04:42.838165",
     "exception": false,
     "start_time": "2024-01-30T16:04:42.811421",
     "status": "completed"
    },
    "tags": []
   },
   "outputs": [],
   "source": [
    " never_5=Never_5Classifier()"
   ]
  },
  {
   "cell_type": "markdown",
   "id": "59d49a1c",
   "metadata": {
    "papermill": {
     "duration": 0.019707,
     "end_time": "2024-01-30T16:04:42.877492",
     "exception": false,
     "start_time": "2024-01-30T16:04:42.857785",
     "status": "completed"
    },
    "tags": []
   },
   "source": [
    "**for croos_val_score needed estimator, data and targetdata as parameters**"
   ]
  },
  {
   "cell_type": "code",
   "execution_count": 26,
   "id": "ad54cb23",
   "metadata": {
    "execution": {
     "iopub.execute_input": "2024-01-30T16:04:42.918722Z",
     "iopub.status.busy": "2024-01-30T16:04:42.918032Z",
     "iopub.status.idle": "2024-01-30T16:04:43.237883Z",
     "shell.execute_reply": "2024-01-30T16:04:43.236930Z"
    },
    "papermill": {
     "duration": 0.342783,
     "end_time": "2024-01-30T16:04:43.239883",
     "exception": false,
     "start_time": "2024-01-30T16:04:42.897100",
     "status": "completed"
    },
    "tags": []
   },
   "outputs": [
    {
     "data": {
      "text/plain": [
       "array([0.90945, 0.9103 , 0.9092 ])"
      ]
     },
     "execution_count": 26,
     "metadata": {},
     "output_type": "execute_result"
    }
   ],
   "source": [
    "cross_val_score(never_5,data_train,target_train_5,cv=3,scoring=\"accuracy\")"
   ]
  },
  {
   "cell_type": "markdown",
   "id": "76d985f6",
   "metadata": {
    "papermill": {
     "duration": 0.019841,
     "end_time": "2024-01-30T16:04:43.280699",
     "exception": false,
     "start_time": "2024-01-30T16:04:43.260858",
     "status": "completed"
    },
    "tags": []
   },
   "source": [
    "**Confusion matrix is 2nd method to detect accuracy**\n",
    "\n",
    "**a)in confusion matrix a matrix that count the number of a value which falls in class A are placed in classB confusely**"
   ]
  },
  {
   "cell_type": "code",
   "execution_count": 27,
   "id": "c9321fea",
   "metadata": {
    "execution": {
     "iopub.execute_input": "2024-01-30T16:04:43.324208Z",
     "iopub.status.busy": "2024-01-30T16:04:43.323542Z",
     "iopub.status.idle": "2024-01-30T16:05:13.618334Z",
     "shell.execute_reply": "2024-01-30T16:05:13.616786Z"
    },
    "papermill": {
     "duration": 30.31962,
     "end_time": "2024-01-30T16:05:13.621260",
     "exception": false,
     "start_time": "2024-01-30T16:04:43.301640",
     "status": "completed"
    },
    "tags": []
   },
   "outputs": [],
   "source": [
    "from sklearn.model_selection import cross_val_predict\n",
    "target_train_pred=cross_val_predict(sgd_clf_obj,data_train,target_train_5,cv=3)"
   ]
  },
  {
   "cell_type": "code",
   "execution_count": 28,
   "id": "5838f2aa",
   "metadata": {
    "execution": {
     "iopub.execute_input": "2024-01-30T16:05:13.691123Z",
     "iopub.status.busy": "2024-01-30T16:05:13.690580Z",
     "iopub.status.idle": "2024-01-30T16:05:13.712083Z",
     "shell.execute_reply": "2024-01-30T16:05:13.711015Z"
    },
    "papermill": {
     "duration": 0.060647,
     "end_time": "2024-01-30T16:05:13.715144",
     "exception": false,
     "start_time": "2024-01-30T16:05:13.654497",
     "status": "completed"
    },
    "tags": []
   },
   "outputs": [
    {
     "data": {
      "text/plain": [
       "array([[52131,  2448],\n",
       "       [  796,  4625]])"
      ]
     },
     "execution_count": 28,
     "metadata": {},
     "output_type": "execute_result"
    }
   ],
   "source": [
    "from sklearn.metrics import confusion_matrix\n",
    "confusion_matrix(target_train_5,target_train_pred)"
   ]
  },
  {
   "cell_type": "code",
   "execution_count": 29,
   "id": "b3280651",
   "metadata": {
    "execution": {
     "iopub.execute_input": "2024-01-30T16:05:13.765648Z",
     "iopub.status.busy": "2024-01-30T16:05:13.764538Z",
     "iopub.status.idle": "2024-01-30T16:05:13.769839Z",
     "shell.execute_reply": "2024-01-30T16:05:13.768997Z"
    },
    "papermill": {
     "duration": 0.028863,
     "end_time": "2024-01-30T16:05:13.772024",
     "exception": false,
     "start_time": "2024-01-30T16:05:13.743161",
     "status": "completed"
    },
    "tags": []
   },
   "outputs": [],
   "source": [
    "target_train_prefect_pred=target_train_5"
   ]
  },
  {
   "cell_type": "code",
   "execution_count": 30,
   "id": "6537b0e1",
   "metadata": {
    "execution": {
     "iopub.execute_input": "2024-01-30T16:05:13.815505Z",
     "iopub.status.busy": "2024-01-30T16:05:13.814285Z",
     "iopub.status.idle": "2024-01-30T16:05:13.828786Z",
     "shell.execute_reply": "2024-01-30T16:05:13.827628Z"
    },
    "papermill": {
     "duration": 0.038586,
     "end_time": "2024-01-30T16:05:13.831051",
     "exception": false,
     "start_time": "2024-01-30T16:05:13.792465",
     "status": "completed"
    },
    "tags": []
   },
   "outputs": [
    {
     "data": {
      "text/plain": [
       "array([[54579,     0],\n",
       "       [    0,  5421]])"
      ]
     },
     "execution_count": 30,
     "metadata": {},
     "output_type": "execute_result"
    }
   ],
   "source": [
    "confusion_matrix(target_train_5,target_train_prefect_pred)"
   ]
  },
  {
   "cell_type": "code",
   "execution_count": 31,
   "id": "9610b456",
   "metadata": {
    "execution": {
     "iopub.execute_input": "2024-01-30T16:05:13.874575Z",
     "iopub.status.busy": "2024-01-30T16:05:13.873847Z",
     "iopub.status.idle": "2024-01-30T16:05:13.916587Z",
     "shell.execute_reply": "2024-01-30T16:05:13.915277Z"
    },
    "papermill": {
     "duration": 0.068076,
     "end_time": "2024-01-30T16:05:13.919605",
     "exception": false,
     "start_time": "2024-01-30T16:05:13.851529",
     "status": "completed"
    },
    "tags": []
   },
   "outputs": [],
   "source": [
    "from sklearn.metrics import precision_score,recall_score\n",
    "precision=precision_score(target_train_5,target_train_pred)\n",
    "recall=recall_score(target_train_5,target_train_pred)"
   ]
  },
  {
   "cell_type": "code",
   "execution_count": 32,
   "id": "76b69089",
   "metadata": {
    "execution": {
     "iopub.execute_input": "2024-01-30T16:05:13.965797Z",
     "iopub.status.busy": "2024-01-30T16:05:13.965055Z",
     "iopub.status.idle": "2024-01-30T16:05:13.971759Z",
     "shell.execute_reply": "2024-01-30T16:05:13.970728Z"
    },
    "papermill": {
     "duration": 0.031146,
     "end_time": "2024-01-30T16:05:13.974234",
     "exception": false,
     "start_time": "2024-01-30T16:05:13.943088",
     "status": "completed"
    },
    "tags": []
   },
   "outputs": [
    {
     "data": {
      "text/plain": [
       "0.6538950940195108"
      ]
     },
     "execution_count": 32,
     "metadata": {},
     "output_type": "execute_result"
    }
   ],
   "source": [
    "precision"
   ]
  },
  {
   "cell_type": "code",
   "execution_count": 33,
   "id": "d7c54d67",
   "metadata": {
    "execution": {
     "iopub.execute_input": "2024-01-30T16:05:14.026986Z",
     "iopub.status.busy": "2024-01-30T16:05:14.026454Z",
     "iopub.status.idle": "2024-01-30T16:05:14.034574Z",
     "shell.execute_reply": "2024-01-30T16:05:14.033274Z"
    },
    "papermill": {
     "duration": 0.038661,
     "end_time": "2024-01-30T16:05:14.037528",
     "exception": false,
     "start_time": "2024-01-30T16:05:13.998867",
     "status": "completed"
    },
    "tags": []
   },
   "outputs": [
    {
     "data": {
      "text/plain": [
       "0.7687135020350381"
      ]
     },
     "execution_count": 33,
     "metadata": {},
     "output_type": "execute_result"
    }
   ],
   "source": [
    "4344 / (4344 + 1307)"
   ]
  },
  {
   "cell_type": "code",
   "execution_count": 34,
   "id": "702c2320",
   "metadata": {
    "execution": {
     "iopub.execute_input": "2024-01-30T16:05:14.090350Z",
     "iopub.status.busy": "2024-01-30T16:05:14.089900Z",
     "iopub.status.idle": "2024-01-30T16:05:14.096919Z",
     "shell.execute_reply": "2024-01-30T16:05:14.095861Z"
    },
    "papermill": {
     "duration": 0.034596,
     "end_time": "2024-01-30T16:05:14.099062",
     "exception": false,
     "start_time": "2024-01-30T16:05:14.064466",
     "status": "completed"
    },
    "tags": []
   },
   "outputs": [
    {
     "data": {
      "text/plain": [
       "0.8531636229477956"
      ]
     },
     "execution_count": 34,
     "metadata": {},
     "output_type": "execute_result"
    }
   ],
   "source": [
    "recall"
   ]
  },
  {
   "cell_type": "code",
   "execution_count": 35,
   "id": "3bed8ff6",
   "metadata": {
    "execution": {
     "iopub.execute_input": "2024-01-30T16:05:14.143488Z",
     "iopub.status.busy": "2024-01-30T16:05:14.142527Z",
     "iopub.status.idle": "2024-01-30T16:05:14.149312Z",
     "shell.execute_reply": "2024-01-30T16:05:14.148195Z"
    },
    "papermill": {
     "duration": 0.030916,
     "end_time": "2024-01-30T16:05:14.151591",
     "exception": false,
     "start_time": "2024-01-30T16:05:14.120675",
     "status": "completed"
    },
    "tags": []
   },
   "outputs": [
    {
     "data": {
      "text/plain": [
       "0.801328168234643"
      ]
     },
     "execution_count": 35,
     "metadata": {},
     "output_type": "execute_result"
    }
   ],
   "source": [
    " 4344 / (4344 + 1077)"
   ]
  },
  {
   "cell_type": "markdown",
   "id": "cbb3a882",
   "metadata": {
    "papermill": {
     "duration": 0.02108,
     "end_time": "2024-01-30T16:05:14.193929",
     "exception": false,
     "start_time": "2024-01-30T16:05:14.172849",
     "status": "completed"
    },
    "tags": []
   },
   "source": [
    "**f1_score=precision+recall**"
   ]
  },
  {
   "cell_type": "code",
   "execution_count": 36,
   "id": "fda58cf4",
   "metadata": {
    "execution": {
     "iopub.execute_input": "2024-01-30T16:05:14.238579Z",
     "iopub.status.busy": "2024-01-30T16:05:14.237988Z",
     "iopub.status.idle": "2024-01-30T16:05:14.261640Z",
     "shell.execute_reply": "2024-01-30T16:05:14.260856Z"
    },
    "papermill": {
     "duration": 0.04823,
     "end_time": "2024-01-30T16:05:14.263648",
     "exception": false,
     "start_time": "2024-01-30T16:05:14.215418",
     "status": "completed"
    },
    "tags": []
   },
   "outputs": [
    {
     "data": {
      "text/plain": [
       "0.7403553705778774"
      ]
     },
     "execution_count": 36,
     "metadata": {},
     "output_type": "execute_result"
    }
   ],
   "source": [
    "from sklearn.metrics import f1_score\n",
    "f1=f1_score(target_train_5,target_train_pred)\n",
    "f1"
   ]
  },
  {
   "cell_type": "code",
   "execution_count": 37,
   "id": "d44a59c5",
   "metadata": {
    "execution": {
     "iopub.execute_input": "2024-01-30T16:05:14.307656Z",
     "iopub.status.busy": "2024-01-30T16:05:14.307069Z",
     "iopub.status.idle": "2024-01-30T16:05:14.312730Z",
     "shell.execute_reply": "2024-01-30T16:05:14.312009Z"
    },
    "papermill": {
     "duration": 0.02995,
     "end_time": "2024-01-30T16:05:14.314680",
     "exception": false,
     "start_time": "2024-01-30T16:05:14.284730",
     "status": "completed"
    },
    "tags": []
   },
   "outputs": [
    {
     "data": {
      "text/plain": [
       "array([-651.0480532])"
      ]
     },
     "execution_count": 37,
     "metadata": {},
     "output_type": "execute_result"
    }
   ],
   "source": [
    "target_scores = sgd_clf_obj.decision_function([some_digit_array])\n",
    "target_scores"
   ]
  },
  {
   "cell_type": "code",
   "execution_count": 38,
   "id": "4a7d2a25",
   "metadata": {
    "execution": {
     "iopub.execute_input": "2024-01-30T16:05:14.358979Z",
     "iopub.status.busy": "2024-01-30T16:05:14.358378Z",
     "iopub.status.idle": "2024-01-30T16:05:14.364149Z",
     "shell.execute_reply": "2024-01-30T16:05:14.363162Z"
    },
    "papermill": {
     "duration": 0.030322,
     "end_time": "2024-01-30T16:05:14.366259",
     "exception": false,
     "start_time": "2024-01-30T16:05:14.335937",
     "status": "completed"
    },
    "tags": []
   },
   "outputs": [
    {
     "data": {
      "text/plain": [
       "array([False])"
      ]
     },
     "execution_count": 38,
     "metadata": {},
     "output_type": "execute_result"
    }
   ],
   "source": [
    "threshold=0\n",
    "target_some_digit_array_pred=(target_scores>threshold)\n",
    "target_some_digit_array_pred"
   ]
  },
  {
   "cell_type": "code",
   "execution_count": 39,
   "id": "52e83845",
   "metadata": {
    "execution": {
     "iopub.execute_input": "2024-01-30T16:05:14.410899Z",
     "iopub.status.busy": "2024-01-30T16:05:14.410481Z",
     "iopub.status.idle": "2024-01-30T16:05:14.417285Z",
     "shell.execute_reply": "2024-01-30T16:05:14.416200Z"
    },
    "papermill": {
     "duration": 0.031615,
     "end_time": "2024-01-30T16:05:14.419613",
     "exception": false,
     "start_time": "2024-01-30T16:05:14.387998",
     "status": "completed"
    },
    "tags": []
   },
   "outputs": [
    {
     "data": {
      "text/plain": [
       "array([False])"
      ]
     },
     "execution_count": 39,
     "metadata": {},
     "output_type": "execute_result"
    }
   ],
   "source": [
    "threshold=20000\n",
    "target_some_digit_array_pred=(target_scores>threshold)\n",
    "target_some_digit_array_pred"
   ]
  },
  {
   "cell_type": "code",
   "execution_count": 40,
   "id": "b2b43ed6",
   "metadata": {
    "execution": {
     "iopub.execute_input": "2024-01-30T16:05:14.464146Z",
     "iopub.status.busy": "2024-01-30T16:05:14.463391Z",
     "iopub.status.idle": "2024-01-30T16:05:44.768509Z",
     "shell.execute_reply": "2024-01-30T16:05:44.767123Z"
    },
    "papermill": {
     "duration": 30.358254,
     "end_time": "2024-01-30T16:05:44.799194",
     "exception": false,
     "start_time": "2024-01-30T16:05:14.440940",
     "status": "completed"
    },
    "tags": []
   },
   "outputs": [
    {
     "data": {
      "text/plain": [
       "array([-29396.05803677,  -7893.8919379 ,  -6482.44876059, ...,\n",
       "       -11091.44500889, -22345.34925017,  -5905.21683576])"
      ]
     },
     "execution_count": 40,
     "metadata": {},
     "output_type": "execute_result"
    }
   ],
   "source": [
    "target_scores=cross_val_predict(sgd_clf_obj,data_train,target_train_5,cv=3,method=\"decision_function\")\n",
    "target_scores"
   ]
  },
  {
   "cell_type": "code",
   "execution_count": 41,
   "id": "a5ab1526",
   "metadata": {
    "execution": {
     "iopub.execute_input": "2024-01-30T16:05:44.867708Z",
     "iopub.status.busy": "2024-01-30T16:05:44.867306Z",
     "iopub.status.idle": "2024-01-30T16:05:44.873920Z",
     "shell.execute_reply": "2024-01-30T16:05:44.872896Z"
    },
    "papermill": {
     "duration": 0.041078,
     "end_time": "2024-01-30T16:05:44.876002",
     "exception": false,
     "start_time": "2024-01-30T16:05:44.834924",
     "status": "completed"
    },
    "tags": []
   },
   "outputs": [
    {
     "data": {
      "text/plain": [
       "(60000,)"
      ]
     },
     "execution_count": 41,
     "metadata": {},
     "output_type": "execute_result"
    }
   ],
   "source": [
    "target_scores.shape"
   ]
  },
  {
   "cell_type": "code",
   "execution_count": 42,
   "id": "1bbcd221",
   "metadata": {
    "execution": {
     "iopub.execute_input": "2024-01-30T16:05:44.920205Z",
     "iopub.status.busy": "2024-01-30T16:05:44.919422Z",
     "iopub.status.idle": "2024-01-30T16:05:44.924146Z",
     "shell.execute_reply": "2024-01-30T16:05:44.923416Z"
    },
    "papermill": {
     "duration": 0.029171,
     "end_time": "2024-01-30T16:05:44.926185",
     "exception": false,
     "start_time": "2024-01-30T16:05:44.897014",
     "status": "completed"
    },
    "tags": []
   },
   "outputs": [],
   "source": [
    "if target_scores.ndim == 2:\n",
    "    target_scores = target_scores[:, 1]"
   ]
  },
  {
   "cell_type": "code",
   "execution_count": 43,
   "id": "92ae2213",
   "metadata": {
    "execution": {
     "iopub.execute_input": "2024-01-30T16:05:44.970367Z",
     "iopub.status.busy": "2024-01-30T16:05:44.969656Z",
     "iopub.status.idle": "2024-01-30T16:05:44.985362Z",
     "shell.execute_reply": "2024-01-30T16:05:44.984566Z"
    },
    "papermill": {
     "duration": 0.040508,
     "end_time": "2024-01-30T16:05:44.987711",
     "exception": false,
     "start_time": "2024-01-30T16:05:44.947203",
     "status": "completed"
    },
    "tags": []
   },
   "outputs": [],
   "source": [
    "from sklearn.metrics import precision_recall_curve\n",
    "precision,recall,threshold=precision_recall_curve(target_train_5,target_scores)"
   ]
  },
  {
   "cell_type": "code",
   "execution_count": 44,
   "id": "f8204029",
   "metadata": {
    "execution": {
     "iopub.execute_input": "2024-01-30T16:05:45.032846Z",
     "iopub.status.busy": "2024-01-30T16:05:45.031822Z",
     "iopub.status.idle": "2024-01-30T16:05:45.038227Z",
     "shell.execute_reply": "2024-01-30T16:05:45.037488Z"
    },
    "papermill": {
     "duration": 0.031339,
     "end_time": "2024-01-30T16:05:45.040390",
     "exception": false,
     "start_time": "2024-01-30T16:05:45.009051",
     "status": "completed"
    },
    "tags": []
   },
   "outputs": [],
   "source": [
    "def precision_recall_plot(precision,recall,threshold):\n",
    "    plt.plot(threshold,precision[:-1], \"b--\", label=\"Precision\",linewidth=2)\n",
    "    plt.plot(threshold,recall[:-1], \"g-\", label=\"recall\",linewidth=2)\n",
    "    plt.xlabel(\"Threshold\",fontsize=16)\n",
    "    plt.legend(loc=\"upper left\",fontsize=16)\n",
    "    plt.ylim([0, 1])"
   ]
  },
  {
   "cell_type": "code",
   "execution_count": 45,
   "id": "2e42ed79",
   "metadata": {
    "execution": {
     "iopub.execute_input": "2024-01-30T16:05:45.085443Z",
     "iopub.status.busy": "2024-01-30T16:05:45.084690Z",
     "iopub.status.idle": "2024-01-30T16:05:45.362830Z",
     "shell.execute_reply": "2024-01-30T16:05:45.361735Z"
    },
    "papermill": {
     "duration": 0.303635,
     "end_time": "2024-01-30T16:05:45.365188",
     "exception": false,
     "start_time": "2024-01-30T16:05:45.061553",
     "status": "completed"
    },
    "tags": []
   },
   "outputs": [
    {
     "data": {
      "image/png": "[encoded data removed]",
      "text/plain": [
       "<Figure size 640x480 with 1 Axes>"
      ]
     },
     "metadata": {},
     "output_type": "display_data"
    }
   ],
   "source": [
    "precision_recall_plot(precision,recall,threshold)"
   ]
  },
  {
   "cell_type": "code",
   "execution_count": 46,
   "id": "c11e42f0",
   "metadata": {
    "execution": {
     "iopub.execute_input": "2024-01-30T16:05:45.409556Z",
     "iopub.status.busy": "2024-01-30T16:05:45.409109Z",
     "iopub.status.idle": "2024-01-30T16:05:45.415850Z",
     "shell.execute_reply": "2024-01-30T16:05:45.414940Z"
    },
    "papermill": {
     "duration": 0.031509,
     "end_time": "2024-01-30T16:05:45.417859",
     "exception": false,
     "start_time": "2024-01-30T16:05:45.386350",
     "status": "completed"
    },
    "tags": []
   },
   "outputs": [
    {
     "data": {
      "text/plain": [
       "True"
      ]
     },
     "execution_count": 46,
     "metadata": {},
     "output_type": "execute_result"
    }
   ],
   "source": [
    "(target_train_pred == (target_scores > 0)).all()"
   ]
  },
  {
   "cell_type": "code",
   "execution_count": 47,
   "id": "208ac072",
   "metadata": {
    "execution": {
     "iopub.execute_input": "2024-01-30T16:05:45.462696Z",
     "iopub.status.busy": "2024-01-30T16:05:45.462314Z",
     "iopub.status.idle": "2024-01-30T16:05:45.468978Z",
     "shell.execute_reply": "2024-01-30T16:05:45.467940Z"
    },
    "papermill": {
     "duration": 0.031662,
     "end_time": "2024-01-30T16:05:45.470989",
     "exception": false,
     "start_time": "2024-01-30T16:05:45.439327",
     "status": "completed"
    },
    "tags": []
   },
   "outputs": [
    {
     "data": {
      "text/plain": [
       "array([False, False, False, ..., False, False, False])"
      ]
     },
     "execution_count": 47,
     "metadata": {},
     "output_type": "execute_result"
    }
   ],
   "source": [
    "target_train_pred_90=(target_scores>70000)\n",
    "target_train_pred_90"
   ]
  },
  {
   "cell_type": "code",
   "execution_count": 48,
   "id": "9cf322c4",
   "metadata": {
    "execution": {
     "iopub.execute_input": "2024-01-30T16:05:45.516491Z",
     "iopub.status.busy": "2024-01-30T16:05:45.515481Z",
     "iopub.status.idle": "2024-01-30T16:05:45.541718Z",
     "shell.execute_reply": "2024-01-30T16:05:45.540871Z"
    },
    "papermill": {
     "duration": 0.05181,
     "end_time": "2024-01-30T16:05:45.544433",
     "exception": false,
     "start_time": "2024-01-30T16:05:45.492623",
     "status": "completed"
    },
    "tags": []
   },
   "outputs": [
    {
     "name": "stderr",
     "output_type": "stream",
     "text": [
      "/opt/conda/lib/python3.10/site-packages/sklearn/metrics/_classification.py:1344: UndefinedMetricWarning: Precision is ill-defined and being set to 0.0 due to no predicted samples. Use `zero_division` parameter to control this behavior.\n",
      "  _warn_prf(average, modifier, msg_start, len(result))\n"
     ]
    },
    {
     "data": {
      "text/plain": [
       "0.0"
      ]
     },
     "execution_count": 48,
     "metadata": {},
     "output_type": "execute_result"
    }
   ],
   "source": [
    "precision_score(target_train_5,target_train_pred_90)"
   ]
  },
  {
   "cell_type": "code",
   "execution_count": 49,
   "id": "64ad994a",
   "metadata": {
    "execution": {
     "iopub.execute_input": "2024-01-30T16:05:45.590519Z",
     "iopub.status.busy": "2024-01-30T16:05:45.589880Z",
     "iopub.status.idle": "2024-01-30T16:05:45.612287Z",
     "shell.execute_reply": "2024-01-30T16:05:45.611270Z"
    },
    "papermill": {
     "duration": 0.048147,
     "end_time": "2024-01-30T16:05:45.614651",
     "exception": false,
     "start_time": "2024-01-30T16:05:45.566504",
     "status": "completed"
    },
    "tags": []
   },
   "outputs": [
    {
     "data": {
      "text/plain": [
       "0.0"
      ]
     },
     "execution_count": 49,
     "metadata": {},
     "output_type": "execute_result"
    }
   ],
   "source": [
    "recall_score(target_train_5,target_train_pred_90)"
   ]
  },
  {
   "cell_type": "code",
   "execution_count": 50,
   "id": "f48208ef",
   "metadata": {
    "execution": {
     "iopub.execute_input": "2024-01-30T16:05:45.660552Z",
     "iopub.status.busy": "2024-01-30T16:05:45.659787Z",
     "iopub.status.idle": "2024-01-30T16:05:45.665219Z",
     "shell.execute_reply": "2024-01-30T16:05:45.664527Z"
    },
    "papermill": {
     "duration": 0.030501,
     "end_time": "2024-01-30T16:05:45.667240",
     "exception": false,
     "start_time": "2024-01-30T16:05:45.636739",
     "status": "completed"
    },
    "tags": []
   },
   "outputs": [],
   "source": [
    "def plot_precision_vs_recall(precisions, recalls):\n",
    "    plt.plot(recalls, precisions, \"b-\", linewidth=2)\n",
    "    plt.xlabel(\"Recall\", fontsize=16)\n",
    "    plt.ylabel(\"Precision\", fontsize=16)\n",
    "    plt.axis([0, 1, 0, 1])\n",
    "    "
   ]
  },
  {
   "cell_type": "code",
   "execution_count": 51,
   "id": "91a5ad6e",
   "metadata": {
    "execution": {
     "iopub.execute_input": "2024-01-30T16:05:45.713011Z",
     "iopub.status.busy": "2024-01-30T16:05:45.712091Z",
     "iopub.status.idle": "2024-01-30T16:05:46.033337Z",
     "shell.execute_reply": "2024-01-30T16:05:46.032244Z"
    },
    "papermill": {
     "duration": 0.346582,
     "end_time": "2024-01-30T16:05:46.035587",
     "exception": false,
     "start_time": "2024-01-30T16:05:45.689005",
     "status": "completed"
    },
    "tags": []
   },
   "outputs": [
    {
     "data": {
      "image/png": "[encoded data removed]",
      "text/plain": [
       "<Figure size 800x600 with 1 Axes>"
      ]
     },
     "metadata": {},
     "output_type": "display_data"
    }
   ],
   "source": [
    "plt.figure(figsize=(8, 6))\n",
    "plot_precision_vs_recall(precision,recall)\n",
    "plt.savefig(\"precision_vs_recall_plot\")\n",
    "plt.show()"
   ]
  },
  {
   "cell_type": "code",
   "execution_count": 52,
   "id": "72d6d91d",
   "metadata": {
    "execution": {
     "iopub.execute_input": "2024-01-30T16:05:46.082760Z",
     "iopub.status.busy": "2024-01-30T16:05:46.081983Z",
     "iopub.status.idle": "2024-01-30T16:05:46.098705Z",
     "shell.execute_reply": "2024-01-30T16:05:46.097377Z"
    },
    "papermill": {
     "duration": 0.043452,
     "end_time": "2024-01-30T16:05:46.101461",
     "exception": false,
     "start_time": "2024-01-30T16:05:46.058009",
     "status": "completed"
    },
    "tags": []
   },
   "outputs": [],
   "source": [
    "from sklearn.metrics import roc_curve\n",
    "fpr,tpr,thresholds=roc_curve(target_train_5, target_scores)"
   ]
  },
  {
   "cell_type": "code",
   "execution_count": 53,
   "id": "36f8bb05",
   "metadata": {
    "execution": {
     "iopub.execute_input": "2024-01-30T16:05:46.149204Z",
     "iopub.status.busy": "2024-01-30T16:05:46.148829Z",
     "iopub.status.idle": "2024-01-30T16:05:46.154444Z",
     "shell.execute_reply": "2024-01-30T16:05:46.153427Z"
    },
    "papermill": {
     "duration": 0.031681,
     "end_time": "2024-01-30T16:05:46.156620",
     "exception": false,
     "start_time": "2024-01-30T16:05:46.124939",
     "status": "completed"
    },
    "tags": []
   },
   "outputs": [],
   "source": [
    "def plot_roc_curve(fpr, tpr, label=None):\n",
    "    plt.plot(fpr, tpr, linewidth=2, label=label)\n",
    "    plt.plot([0, 1], [0, 1], 'k--')\n",
    "    plt.axis([0, 1, 0, 1])\n",
    "    plt.xlabel('False Positive Rate', fontsize=16)\n",
    "    plt.ylabel('True Positive Rate', fontsize=16)"
   ]
  },
  {
   "cell_type": "code",
   "execution_count": 54,
   "id": "906fc4a5",
   "metadata": {
    "execution": {
     "iopub.execute_input": "2024-01-30T16:05:46.202861Z",
     "iopub.status.busy": "2024-01-30T16:05:46.202189Z",
     "iopub.status.idle": "2024-01-30T16:05:46.433415Z",
     "shell.execute_reply": "2024-01-30T16:05:46.432347Z"
    },
    "papermill": {
     "duration": 0.257002,
     "end_time": "2024-01-30T16:05:46.435864",
     "exception": false,
     "start_time": "2024-01-30T16:05:46.178862",
     "status": "completed"
    },
    "tags": []
   },
   "outputs": [
    {
     "data": {
      "image/png": "[encoded data removed]",
      "text/plain": [
       "<Figure size 640x480 with 1 Axes>"
      ]
     },
     "metadata": {},
     "output_type": "display_data"
    }
   ],
   "source": [
    "plot_roc_curve(fpr, tpr, label=None)"
   ]
  },
  {
   "cell_type": "code",
   "execution_count": 55,
   "id": "795f5fa1",
   "metadata": {
    "execution": {
     "iopub.execute_input": "2024-01-30T16:05:46.484476Z",
     "iopub.status.busy": "2024-01-30T16:05:46.483707Z",
     "iopub.status.idle": "2024-01-30T16:05:46.511893Z",
     "shell.execute_reply": "2024-01-30T16:05:46.510830Z"
    },
    "papermill": {
     "duration": 0.05482,
     "end_time": "2024-01-30T16:05:46.514140",
     "exception": false,
     "start_time": "2024-01-30T16:05:46.459320",
     "status": "completed"
    },
    "tags": []
   },
   "outputs": [
    {
     "data": {
      "text/plain": [
       "0.9620226308161072"
      ]
     },
     "execution_count": 55,
     "metadata": {},
     "output_type": "execute_result"
    }
   ],
   "source": [
    "from sklearn.metrics import roc_auc_score\n",
    "\n",
    "roc_auc_score(target_train_5, target_scores)"
   ]
  },
  {
   "cell_type": "code",
   "execution_count": 56,
   "id": "9fc956a4",
   "metadata": {
    "execution": {
     "iopub.execute_input": "2024-01-30T16:05:46.562702Z",
     "iopub.status.busy": "2024-01-30T16:05:46.562040Z",
     "iopub.status.idle": "2024-01-30T16:05:57.109500Z",
     "shell.execute_reply": "2024-01-30T16:05:57.108335Z"
    },
    "papermill": {
     "duration": 10.574812,
     "end_time": "2024-01-30T16:05:57.112094",
     "exception": false,
     "start_time": "2024-01-30T16:05:46.537282",
     "status": "completed"
    },
    "tags": []
   },
   "outputs": [],
   "source": [
    "from sklearn.ensemble import RandomForestClassifier as RFC\n",
    "forest_clf_obj = RFC(n_estimators=10, random_state=42)\n",
    "target_probas_forest = cross_val_predict(forest_clf_obj, data_train, target_train_5, cv=3,method=\"predict_proba\")"
   ]
  },
  {
   "cell_type": "code",
   "execution_count": 57,
   "id": "56daf450",
   "metadata": {
    "execution": {
     "iopub.execute_input": "2024-01-30T16:05:57.160310Z",
     "iopub.status.busy": "2024-01-30T16:05:57.159923Z",
     "iopub.status.idle": "2024-01-30T16:05:57.170476Z",
     "shell.execute_reply": "2024-01-30T16:05:57.169515Z"
    },
    "papermill": {
     "duration": 0.037622,
     "end_time": "2024-01-30T16:05:57.172902",
     "exception": false,
     "start_time": "2024-01-30T16:05:57.135280",
     "status": "completed"
    },
    "tags": []
   },
   "outputs": [],
   "source": [
    "target_scores_forest = target_probas_forest[:, 1]\n",
    "# score = proba of positive class\n",
    "fpr_forest, tpr_forest, thresholds_forest = roc_curve(target_train_5,target_scores_forest)"
   ]
  },
  {
   "cell_type": "code",
   "execution_count": 58,
   "id": "a526dced",
   "metadata": {
    "execution": {
     "iopub.execute_input": "2024-01-30T16:05:57.221262Z",
     "iopub.status.busy": "2024-01-30T16:05:57.220838Z",
     "iopub.status.idle": "2024-01-30T16:05:57.581549Z",
     "shell.execute_reply": "2024-01-30T16:05:57.580411Z"
    },
    "papermill": {
     "duration": 0.387929,
     "end_time": "2024-01-30T16:05:57.584364",
     "exception": false,
     "start_time": "2024-01-30T16:05:57.196435",
     "status": "completed"
    },
    "tags": []
   },
   "outputs": [
    {
     "data": {
      "image/png": "[encoded data removed]",
      "text/plain": [
       "<Figure size 800x600 with 1 Axes>"
      ]
     },
     "metadata": {},
     "output_type": "display_data"
    }
   ],
   "source": [
    "plt.figure(figsize=(8, 6))\n",
    "plt.plot(fpr, tpr, \"b:\", linewidth=2, label=\"SGD\")\n",
    "plot_roc_curve(fpr_forest, tpr_forest, \"Random Forest\")\n",
    "plt.legend(loc=\"lower right\", fontsize=16)\n",
    "plt.savefig(\"roc_curve_comparison_plot\")\n",
    "plt.show()"
   ]
  },
  {
   "cell_type": "code",
   "execution_count": 59,
   "id": "1734892d",
   "metadata": {
    "execution": {
     "iopub.execute_input": "2024-01-30T16:05:57.633823Z",
     "iopub.status.busy": "2024-01-30T16:05:57.633419Z",
     "iopub.status.idle": "2024-01-30T16:05:57.652596Z",
     "shell.execute_reply": "2024-01-30T16:05:57.651495Z"
    },
    "papermill": {
     "duration": 0.046403,
     "end_time": "2024-01-30T16:05:57.654686",
     "exception": false,
     "start_time": "2024-01-30T16:05:57.608283",
     "status": "completed"
    },
    "tags": []
   },
   "outputs": [
    {
     "data": {
      "text/plain": [
       "0.9926785047487254"
      ]
     },
     "execution_count": 59,
     "metadata": {},
     "output_type": "execute_result"
    }
   ],
   "source": [
    "roc_auc_score(target_train_5, target_scores_forest)"
   ]
  },
  {
   "cell_type": "code",
   "execution_count": 60,
   "id": "22a0c5ab",
   "metadata": {
    "execution": {
     "iopub.execute_input": "2024-01-30T16:05:57.704687Z",
     "iopub.status.busy": "2024-01-30T16:05:57.703835Z",
     "iopub.status.idle": "2024-01-30T16:06:08.039776Z",
     "shell.execute_reply": "2024-01-30T16:06:08.038644Z"
    },
    "papermill": {
     "duration": 10.363593,
     "end_time": "2024-01-30T16:06:08.042237",
     "exception": false,
     "start_time": "2024-01-30T16:05:57.678644",
     "status": "completed"
    },
    "tags": []
   },
   "outputs": [
    {
     "data": {
      "text/plain": [
       "0.9802804557405784"
      ]
     },
     "execution_count": 60,
     "metadata": {},
     "output_type": "execute_result"
    }
   ],
   "source": [
    "target_train_pred_forest = cross_val_predict(forest_clf_obj, data_train, target_train_5, cv=3)\n",
    "precision_score(target_train_5, target_train_pred_forest)"
   ]
  },
  {
   "cell_type": "code",
   "execution_count": 61,
   "id": "417ff7ab",
   "metadata": {
    "execution": {
     "iopub.execute_input": "2024-01-30T16:06:08.094403Z",
     "iopub.status.busy": "2024-01-30T16:06:08.093638Z",
     "iopub.status.idle": "2024-01-30T16:06:08.117750Z",
     "shell.execute_reply": "2024-01-30T16:06:08.116659Z"
    },
    "papermill": {
     "duration": 0.052644,
     "end_time": "2024-01-30T16:06:08.120019",
     "exception": false,
     "start_time": "2024-01-30T16:06:08.067375",
     "status": "completed"
    },
    "tags": []
   },
   "outputs": [
    {
     "data": {
      "text/plain": [
       "0.8253089835823649"
      ]
     },
     "execution_count": 61,
     "metadata": {},
     "output_type": "execute_result"
    }
   ],
   "source": [
    "recall_score(target_train_5, target_train_pred_forest)"
   ]
  },
  {
   "cell_type": "markdown",
   "id": "c234fe3d",
   "metadata": {
    "papermill": {
     "duration": 0.023885,
     "end_time": "2024-01-30T16:06:08.167906",
     "exception": false,
     "start_time": "2024-01-30T16:06:08.144021",
     "status": "completed"
    },
    "tags": []
   },
   "source": [
    "**Multiclass**"
   ]
  },
  {
   "cell_type": "code",
   "execution_count": 62,
   "id": "18811677",
   "metadata": {
    "execution": {
     "iopub.execute_input": "2024-01-30T16:06:08.219907Z",
     "iopub.status.busy": "2024-01-30T16:06:08.219291Z",
     "iopub.status.idle": "2024-01-30T16:09:11.302418Z",
     "shell.execute_reply": "2024-01-30T16:09:11.301311Z"
    },
    "papermill": {
     "duration": 183.136437,
     "end_time": "2024-01-30T16:09:11.328741",
     "exception": false,
     "start_time": "2024-01-30T16:06:08.192304",
     "status": "completed"
    },
    "tags": []
   },
   "outputs": [
    {
     "data": {
      "text/plain": [
       "array([5], dtype=int8)"
      ]
     },
     "execution_count": 62,
     "metadata": {},
     "output_type": "execute_result"
    }
   ],
   "source": [
    "sgd_clf_obj.fit(data_train, target_train)\n",
    "sgd_clf_obj.predict([some_digit_array])"
   ]
  },
  {
   "cell_type": "code",
   "execution_count": 63,
   "id": "022fdb66",
   "metadata": {
    "execution": {
     "iopub.execute_input": "2024-01-30T16:09:11.380049Z",
     "iopub.status.busy": "2024-01-30T16:09:11.378945Z",
     "iopub.status.idle": "2024-01-30T16:09:11.386812Z",
     "shell.execute_reply": "2024-01-30T16:09:11.385702Z"
    },
    "papermill": {
     "duration": 0.035609,
     "end_time": "2024-01-30T16:09:11.388912",
     "exception": false,
     "start_time": "2024-01-30T16:09:11.353303",
     "status": "completed"
    },
    "tags": []
   },
   "outputs": [
    {
     "data": {
      "text/plain": [
       "array([[ -5344.1874066 , -20065.44006081,  -9280.96092054,\n",
       "         -6526.48612451, -16175.56967543,   1139.50819489,\n",
       "        -21172.42022818, -14662.41441447, -12049.13451815,\n",
       "        -14693.61169079]])"
      ]
     },
     "execution_count": 63,
     "metadata": {},
     "output_type": "execute_result"
    }
   ],
   "source": [
    "some_digit_scores = sgd_clf_obj.decision_function([some_digit_array])\n",
    "some_digit_scores"
   ]
  },
  {
   "cell_type": "code",
   "execution_count": 64,
   "id": "3cf5bd5c",
   "metadata": {
    "execution": {
     "iopub.execute_input": "2024-01-30T16:09:11.439933Z",
     "iopub.status.busy": "2024-01-30T16:09:11.439558Z",
     "iopub.status.idle": "2024-01-30T16:09:11.446047Z",
     "shell.execute_reply": "2024-01-30T16:09:11.445001Z"
    },
    "papermill": {
     "duration": 0.034523,
     "end_time": "2024-01-30T16:09:11.448005",
     "exception": false,
     "start_time": "2024-01-30T16:09:11.413482",
     "status": "completed"
    },
    "tags": []
   },
   "outputs": [
    {
     "data": {
      "text/plain": [
       "5"
      ]
     },
     "execution_count": 64,
     "metadata": {},
     "output_type": "execute_result"
    }
   ],
   "source": [
    "np.argmax(some_digit_scores)"
   ]
  },
  {
   "cell_type": "code",
   "execution_count": 65,
   "id": "ae0850c4",
   "metadata": {
    "execution": {
     "iopub.execute_input": "2024-01-30T16:09:11.498761Z",
     "iopub.status.busy": "2024-01-30T16:09:11.498399Z",
     "iopub.status.idle": "2024-01-30T16:09:11.504360Z",
     "shell.execute_reply": "2024-01-30T16:09:11.503424Z"
    },
    "papermill": {
     "duration": 0.033795,
     "end_time": "2024-01-30T16:09:11.506299",
     "exception": false,
     "start_time": "2024-01-30T16:09:11.472504",
     "status": "completed"
    },
    "tags": []
   },
   "outputs": [
    {
     "data": {
      "text/plain": [
       "5"
      ]
     },
     "execution_count": 65,
     "metadata": {},
     "output_type": "execute_result"
    }
   ],
   "source": [
    "sgd_clf_obj.classes_[5]"
   ]
  },
  {
   "cell_type": "code",
   "execution_count": 66,
   "id": "7450bbcb",
   "metadata": {
    "execution": {
     "iopub.execute_input": "2024-01-30T16:09:11.557843Z",
     "iopub.status.busy": "2024-01-30T16:09:11.557472Z",
     "iopub.status.idle": "2024-01-30T16:09:11.563353Z",
     "shell.execute_reply": "2024-01-30T16:09:11.562545Z"
    },
    "papermill": {
     "duration": 0.034644,
     "end_time": "2024-01-30T16:09:11.565634",
     "exception": false,
     "start_time": "2024-01-30T16:09:11.530990",
     "status": "completed"
    },
    "tags": []
   },
   "outputs": [
    {
     "data": {
      "text/plain": [
       "array([0, 1, 2, 3, 4, 5, 6, 7, 8, 9], dtype=int8)"
      ]
     },
     "execution_count": 66,
     "metadata": {},
     "output_type": "execute_result"
    }
   ],
   "source": [
    "sgd_clf_obj.classes_"
   ]
  },
  {
   "cell_type": "code",
   "execution_count": 67,
   "id": "218cfe26",
   "metadata": {
    "execution": {
     "iopub.execute_input": "2024-01-30T16:09:11.619014Z",
     "iopub.status.busy": "2024-01-30T16:09:11.618575Z",
     "iopub.status.idle": "2024-01-30T16:10:03.348696Z",
     "shell.execute_reply": "2024-01-30T16:10:03.347618Z"
    },
    "papermill": {
     "duration": 51.783862,
     "end_time": "2024-01-30T16:10:03.375631",
     "exception": false,
     "start_time": "2024-01-30T16:09:11.591769",
     "status": "completed"
    },
    "tags": []
   },
   "outputs": [
    {
     "data": {
      "text/plain": [
       "array([5], dtype=int8)"
      ]
     },
     "execution_count": 67,
     "metadata": {},
     "output_type": "execute_result"
    }
   ],
   "source": [
    "from sklearn.multiclass import OneVsOneClassifier\n",
    "from sklearn.linear_model import SGDClassifier\n",
    "ovo_clf = OneVsOneClassifier(SGDClassifier(random_state=42))\n",
    "ovo_clf.fit(data_train, target_train)\n",
    "ovo_clf.predict([some_digit_array])"
   ]
  },
  {
   "cell_type": "code",
   "execution_count": 68,
   "id": "c8d17819",
   "metadata": {
    "execution": {
     "iopub.execute_input": "2024-01-30T16:10:03.427190Z",
     "iopub.status.busy": "2024-01-30T16:10:03.426781Z",
     "iopub.status.idle": "2024-01-30T16:10:03.433787Z",
     "shell.execute_reply": "2024-01-30T16:10:03.432526Z"
    },
    "papermill": {
     "duration": 0.035515,
     "end_time": "2024-01-30T16:10:03.435939",
     "exception": false,
     "start_time": "2024-01-30T16:10:03.400424",
     "status": "completed"
    },
    "tags": []
   },
   "outputs": [
    {
     "data": {
      "text/plain": [
       "45"
      ]
     },
     "execution_count": 68,
     "metadata": {},
     "output_type": "execute_result"
    }
   ],
   "source": [
    "len(ovo_clf.estimators_)"
   ]
  },
  {
   "cell_type": "code",
   "execution_count": 69,
   "id": "249201f8",
   "metadata": {
    "execution": {
     "iopub.execute_input": "2024-01-30T16:10:03.488856Z",
     "iopub.status.busy": "2024-01-30T16:10:03.488451Z",
     "iopub.status.idle": "2024-01-30T16:10:08.616429Z",
     "shell.execute_reply": "2024-01-30T16:10:08.615138Z"
    },
    "papermill": {
     "duration": 5.158031,
     "end_time": "2024-01-30T16:10:08.619030",
     "exception": false,
     "start_time": "2024-01-30T16:10:03.460999",
     "status": "completed"
    },
    "tags": []
   },
   "outputs": [
    {
     "data": {
      "text/plain": [
       "array([5], dtype=int8)"
      ]
     },
     "execution_count": 69,
     "metadata": {},
     "output_type": "execute_result"
    }
   ],
   "source": [
    "forest_clf_obj.fit(data_train, target_train)\n",
    "forest_clf_obj.predict([some_digit_array])"
   ]
  },
  {
   "cell_type": "code",
   "execution_count": 70,
   "id": "977f72ab",
   "metadata": {
    "execution": {
     "iopub.execute_input": "2024-01-30T16:10:08.673589Z",
     "iopub.status.busy": "2024-01-30T16:10:08.673120Z",
     "iopub.status.idle": "2024-01-30T16:10:08.680917Z",
     "shell.execute_reply": "2024-01-30T16:10:08.680183Z"
    },
    "papermill": {
     "duration": 0.037993,
     "end_time": "2024-01-30T16:10:08.682987",
     "exception": false,
     "start_time": "2024-01-30T16:10:08.644994",
     "status": "completed"
    },
    "tags": []
   },
   "outputs": [
    {
     "data": {
      "text/plain": [
       "array([[0.2, 0. , 0. , 0. , 0. , 0.8, 0. , 0. , 0. , 0. ]])"
      ]
     },
     "execution_count": 70,
     "metadata": {},
     "output_type": "execute_result"
    }
   ],
   "source": [
    "forest_clf_obj.predict_proba([some_digit_array])"
   ]
  },
  {
   "cell_type": "code",
   "execution_count": 71,
   "id": "fabb461d",
   "metadata": {
    "execution": {
     "iopub.execute_input": "2024-01-30T16:10:08.736665Z",
     "iopub.status.busy": "2024-01-30T16:10:08.736257Z",
     "iopub.status.idle": "2024-01-30T16:15:07.047654Z",
     "shell.execute_reply": "2024-01-30T16:15:07.046438Z"
    },
    "papermill": {
     "duration": 298.384407,
     "end_time": "2024-01-30T16:15:07.093155",
     "exception": false,
     "start_time": "2024-01-30T16:10:08.708748",
     "status": "completed"
    },
    "tags": []
   },
   "outputs": [
    {
     "data": {
      "text/plain": [
       "array([0.84615, 0.86935, 0.84465])"
      ]
     },
     "execution_count": 71,
     "metadata": {},
     "output_type": "execute_result"
    }
   ],
   "source": [
    "cross_val_score(sgd_clf_obj, data_train, target_train, cv=3, scoring=\"accuracy\")"
   ]
  },
  {
   "cell_type": "code",
   "execution_count": 72,
   "id": "2f0ece79",
   "metadata": {
    "execution": {
     "iopub.execute_input": "2024-01-30T16:15:07.171386Z",
     "iopub.status.busy": "2024-01-30T16:15:07.170984Z",
     "iopub.status.idle": "2024-01-30T16:28:36.436302Z",
     "shell.execute_reply": "2024-01-30T16:28:36.435006Z"
    },
    "papermill": {
     "duration": 809.337831,
     "end_time": "2024-01-30T16:28:36.473897",
     "exception": false,
     "start_time": "2024-01-30T16:15:07.136066",
     "status": "completed"
    },
    "tags": []
   },
   "outputs": [
    {
     "data": {
      "text/plain": [
       "array([0.89965, 0.8946 , 0.9036 ])"
      ]
     },
     "execution_count": 72,
     "metadata": {},
     "output_type": "execute_result"
    }
   ],
   "source": [
    "from sklearn.preprocessing import StandardScaler\n",
    "scaler = StandardScaler()\n",
    "data_train_scaled = scaler.fit_transform(data_train.astype(np.float64))\n",
    "cross_val_score(sgd_clf_obj, data_train_scaled, target_train, cv=3, scoring=\"accuracy\")"
   ]
  },
  {
   "cell_type": "code",
   "execution_count": 73,
   "id": "5d4da98c",
   "metadata": {
    "execution": {
     "iopub.execute_input": "2024-01-30T16:28:36.552287Z",
     "iopub.status.busy": "2024-01-30T16:28:36.551919Z",
     "iopub.status.idle": "2024-01-30T16:42:05.452409Z",
     "shell.execute_reply": "2024-01-30T16:42:05.451296Z"
    },
    "papermill": {
     "duration": 808.981828,
     "end_time": "2024-01-30T16:42:05.499892",
     "exception": false,
     "start_time": "2024-01-30T16:28:36.518064",
     "status": "completed"
    },
    "tags": []
   },
   "outputs": [
    {
     "data": {
      "text/plain": [
       "array([[5584,    0,   16,    8,    7,   40,   34,    5,  228,    1],\n",
       "       [   0, 6406,   43,   25,    5,   44,    4,    8,  198,    9],\n",
       "       [  23,   26, 5243,   93,   67,   25,   58,   38,  376,    9],\n",
       "       [  28,   18,  113, 5216,    1,  216,   25,   43,  405,   66],\n",
       "       [   7,   15,   38,   11, 5233,    8,   34,   22,  316,  158],\n",
       "       [  26,   15,   28,  163,   55, 4451,   77,   19,  521,   66],\n",
       "       [  30,   18,   48,    4,   42,   87, 5541,    8,  139,    1],\n",
       "       [  19,   10,   51,   23,   46,   10,    5, 5720,  183,  198],\n",
       "       [  14,   61,   39,   91,    4,  121,   28,   10, 5438,   45],\n",
       "       [  22,   20,   31,   58,  126,   38,    1,  179,  349, 5125]])"
      ]
     },
     "execution_count": 73,
     "metadata": {},
     "output_type": "execute_result"
    }
   ],
   "source": [
    "target_train_pred = cross_val_predict(sgd_clf_obj, data_train_scaled, target_train, cv=3)\n",
    "conf_mx = confusion_matrix(target_train, target_train_pred)\n",
    "conf_mx"
   ]
  },
  {
   "cell_type": "code",
   "execution_count": 74,
   "id": "70a9cf13",
   "metadata": {
    "execution": {
     "iopub.execute_input": "2024-01-30T16:42:05.572250Z",
     "iopub.status.busy": "2024-01-30T16:42:05.571853Z",
     "iopub.status.idle": "2024-01-30T16:42:05.862604Z",
     "shell.execute_reply": "2024-01-30T16:42:05.861397Z"
    },
    "papermill": {
     "duration": 0.321549,
     "end_time": "2024-01-30T16:42:05.865677",
     "exception": false,
     "start_time": "2024-01-30T16:42:05.544128",
     "status": "completed"
    },
    "tags": []
   },
   "outputs": [
    {
     "data": {
      "image/png": "[encoded data removed]",
      "text/plain": [
       "<Figure size 480x480 with 1 Axes>"
      ]
     },
     "metadata": {},
     "output_type": "display_data"
    }
   ],
   "source": [
    "plt.matshow(conf_mx, cmap=plt.cm.gray)\n",
    "plt.show()"
   ]
  },
  {
   "cell_type": "code",
   "execution_count": 75,
   "id": "05a0f4ec",
   "metadata": {
    "execution": {
     "iopub.execute_input": "2024-01-30T16:42:05.933592Z",
     "iopub.status.busy": "2024-01-30T16:42:05.932819Z",
     "iopub.status.idle": "2024-01-30T16:42:05.937395Z",
     "shell.execute_reply": "2024-01-30T16:42:05.936390Z"
    },
    "papermill": {
     "duration": 0.033755,
     "end_time": "2024-01-30T16:42:05.939433",
     "exception": false,
     "start_time": "2024-01-30T16:42:05.905678",
     "status": "completed"
    },
    "tags": []
   },
   "outputs": [],
   "source": [
    "row_sums = conf_mx.sum(axis=1, keepdims=True)\n",
    "norm_conf_mx = conf_mx / row_sums"
   ]
  },
  {
   "cell_type": "code",
   "execution_count": 76,
   "id": "894ec581",
   "metadata": {
    "execution": {
     "iopub.execute_input": "2024-01-30T16:42:05.994433Z",
     "iopub.status.busy": "2024-01-30T16:42:05.993726Z",
     "iopub.status.idle": "2024-01-30T16:42:06.377482Z",
     "shell.execute_reply": "2024-01-30T16:42:06.376303Z"
    },
    "papermill": {
     "duration": 0.414257,
     "end_time": "2024-01-30T16:42:06.380465",
     "exception": false,
     "start_time": "2024-01-30T16:42:05.966208",
     "status": "completed"
    },
    "tags": []
   },
   "outputs": [
    {
     "data": {
      "image/png": "[encoded data removed]",
      "text/plain": [
       "<Figure size 480x480 with 1 Axes>"
      ]
     },
     "metadata": {},
     "output_type": "display_data"
    }
   ],
   "source": [
    "np.fill_diagonal(norm_conf_mx, 0)\n",
    "plt.matshow(norm_conf_mx, cmap=plt.cm.gray)\n",
    "plt.savefig(\"confusion_matrix_errors_plot\")\n",
    "plt.show()"
   ]
  },
  {
   "cell_type": "code",
   "execution_count": 77,
   "id": "8dd35f35",
   "metadata": {
    "execution": {
     "iopub.execute_input": "2024-01-30T16:42:06.450257Z",
     "iopub.status.busy": "2024-01-30T16:42:06.449469Z",
     "iopub.status.idle": "2024-01-30T16:42:06.454265Z",
     "shell.execute_reply": "2024-01-30T16:42:06.453379Z"
    },
    "papermill": {
     "duration": 0.034318,
     "end_time": "2024-01-30T16:42:06.456495",
     "exception": false,
     "start_time": "2024-01-30T16:42:06.422177",
     "status": "completed"
    },
    "tags": []
   },
   "outputs": [],
   "source": [
    "def plot_digit(data):\n",
    "    image = data.reshape(28, 28)\n",
    "    plt.imshow(image, cmap = plt.cm.binary,\n",
    "               interpolation=\"nearest\")\n",
    "    plt.axis(\"off\")"
   ]
  },
  {
   "cell_type": "code",
   "execution_count": 78,
   "id": "04feb6b5",
   "metadata": {
    "execution": {
     "iopub.execute_input": "2024-01-30T16:42:06.512383Z",
     "iopub.status.busy": "2024-01-30T16:42:06.511757Z",
     "iopub.status.idle": "2024-01-30T16:42:06.518589Z",
     "shell.execute_reply": "2024-01-30T16:42:06.517556Z"
    },
    "papermill": {
     "duration": 0.037036,
     "end_time": "2024-01-30T16:42:06.520828",
     "exception": false,
     "start_time": "2024-01-30T16:42:06.483792",
     "status": "completed"
    },
    "tags": []
   },
   "outputs": [],
   "source": [
    "def plot_digits(instances, images_per_row=10, **options):\n",
    "    size = 28\n",
    "    images_per_row = min(len(instances), images_per_row)\n",
    "    images = [instance.reshape(size,size) for instance in instances]\n",
    "    n_rows = (len(instances) - 1) // images_per_row + 1\n",
    "    row_images = []\n",
    "    n_empty = n_rows * images_per_row - len(instances)\n",
    "    images.append(np.zeros((size, size * n_empty)))\n",
    "    for row in range(n_rows):\n",
    "        rimages = images[row * images_per_row : (row + 1) * images_per_row]\n",
    "        row_images.append(np.concatenate(rimages, axis=1))\n",
    "    image = np.concatenate(row_images, axis=0)\n",
    "    plt.imshow(image, cmap = plt.cm.binary, **options)\n",
    "    plt.axis(\"off\")"
   ]
  },
  {
   "cell_type": "code",
   "execution_count": 79,
   "id": "07d42046",
   "metadata": {
    "execution": {
     "iopub.execute_input": "2024-01-30T16:42:06.576890Z",
     "iopub.status.busy": "2024-01-30T16:42:06.576228Z",
     "iopub.status.idle": "2024-01-30T16:42:06.968139Z",
     "shell.execute_reply": "2024-01-30T16:42:06.967007Z"
    },
    "papermill": {
     "duration": 0.424,
     "end_time": "2024-01-30T16:42:06.971373",
     "exception": false,
     "start_time": "2024-01-30T16:42:06.547373",
     "status": "completed"
    },
    "tags": []
   },
   "outputs": [
    {
     "data": {
      "image/png": "[encoded data removed]",
      "text/plain": [
       "<Figure size 800x800 with 4 Axes>"
      ]
     },
     "metadata": {},
     "output_type": "display_data"
    }
   ],
   "source": [
    "cl_a, cl_b = 3, 5\n",
    "X_aa = data_train[(target_train == cl_a) & (target_train_pred == cl_a)]\n",
    "X_ab = data_train[(target_train == cl_a) & (target_train_pred == cl_b)]\n",
    "X_ba = data_train[(target_train == cl_b) & (target_train_pred == cl_a)]\n",
    "X_bb = data_train[(target_train == cl_b) & (target_train_pred == cl_b)]\n",
    "\n",
    "plt.figure(figsize=(8,8))\n",
    "plt.subplot(221); plot_digits(X_aa[:25], images_per_row=5)\n",
    "plt.subplot(222); plot_digits(X_ab[:25], images_per_row=5)\n",
    "plt.subplot(223); plot_digits(X_ba[:25], images_per_row=5)\n",
    "plt.subplot(224); plot_digits(X_bb[:25], images_per_row=5)\n",
    "plt.savefig(\"error_analysis_digits_plot\")\n",
    "plt.show()"
   ]
  },
  {
   "cell_type": "code",
   "execution_count": 80,
   "id": "cf225aab",
   "metadata": {
    "execution": {
     "iopub.execute_input": "2024-01-30T16:42:07.028533Z",
     "iopub.status.busy": "2024-01-30T16:42:07.028158Z",
     "iopub.status.idle": "2024-01-30T16:42:07.046721Z",
     "shell.execute_reply": "2024-01-30T16:42:07.045776Z"
    },
    "papermill": {
     "duration": 0.050041,
     "end_time": "2024-01-30T16:42:07.049235",
     "exception": false,
     "start_time": "2024-01-30T16:42:06.999194",
     "status": "completed"
    },
    "tags": []
   },
   "outputs": [
    {
     "data": {
      "text/html": [
       "<style>#sk-container-id-1 {color: black;background-color: white;}#sk-container-id-1 pre{padding: 0;}#sk-container-id-1 div.sk-toggleable {background-color: white;}#sk-container-id-1 label.sk-toggleable__label {cursor: pointer;display: block;width: 100%;margin-bottom: 0;padding: 0.3em;box-sizing: border-box;text-align: center;}#sk-container-id-1 label.sk-toggleable__label-arrow:before {content: \"▸\";float: left;margin-right: 0.25em;color: #696969;}#sk-container-id-1 label.sk-toggleable__label-arrow:hover:before {color: black;}#sk-container-id-1 div.sk-estimator:hover label.sk-toggleable__label-arrow:before {color: black;}#sk-container-id-1 div.sk-toggleable__content {max-height: 0;max-width: 0;overflow: hidden;text-align: left;background-color: #f0f8ff;}#sk-container-id-1 div.sk-toggleable__content pre {margin: 0.2em;color: black;border-radius: 0.25em;background-color: #f0f8ff;}#sk-container-id-1 input.sk-toggleable__control:checked~div.sk-toggleable__content {max-height: 200px;max-width: 100%;overflow: auto;}#sk-container-id-1 input.sk-toggleable__control:checked~label.sk-toggleable__label-arrow:before {content: \"▾\";}#sk-container-id-1 div.sk-estimator input.sk-toggleable__control:checked~label.sk-toggleable__label {background-color: #d4ebff;}#sk-container-id-1 div.sk-label input.sk-toggleable__control:checked~label.sk-toggleable__label {background-color: #d4ebff;}#sk-container-id-1 input.sk-hidden--visually {border: 0;clip: rect(1px 1px 1px 1px);clip: rect(1px, 1px, 1px, 1px);height: 1px;margin: -1px;overflow: hidden;padding: 0;position: absolute;width: 1px;}#sk-container-id-1 div.sk-estimator {font-family: monospace;background-color: #f0f8ff;border: 1px dotted black;border-radius: 0.25em;box-sizing: border-box;margin-bottom: 0.5em;}#sk-container-id-1 div.sk-estimator:hover {background-color: #d4ebff;}#sk-container-id-1 div.sk-parallel-item::after {content: \"\";width: 100%;border-bottom: 1px solid gray;flex-grow: 1;}#sk-container-id-1 div.sk-label:hover label.sk-toggleable__label {background-color: #d4ebff;}#sk-container-id-1 div.sk-serial::before {content: \"\";position: absolute;border-left: 1px solid gray;box-sizing: border-box;top: 0;bottom: 0;left: 50%;z-index: 0;}#sk-container-id-1 div.sk-serial {display: flex;flex-direction: column;align-items: center;background-color: white;padding-right: 0.2em;padding-left: 0.2em;position: relative;}#sk-container-id-1 div.sk-item {position: relative;z-index: 1;}#sk-container-id-1 div.sk-parallel {display: flex;align-items: stretch;justify-content: center;background-color: white;position: relative;}#sk-container-id-1 div.sk-item::before, #sk-container-id-1 div.sk-parallel-item::before {content: \"\";position: absolute;border-left: 1px solid gray;box-sizing: border-box;top: 0;bottom: 0;left: 50%;z-index: -1;}#sk-container-id-1 div.sk-parallel-item {display: flex;flex-direction: column;z-index: 1;position: relative;background-color: white;}#sk-container-id-1 div.sk-parallel-item:first-child::after {align-self: flex-end;width: 50%;}#sk-container-id-1 div.sk-parallel-item:last-child::after {align-self: flex-start;width: 50%;}#sk-container-id-1 div.sk-parallel-item:only-child::after {width: 0;}#sk-container-id-1 div.sk-dashed-wrapped {border: 1px dashed gray;margin: 0 0.4em 0.5em 0.4em;box-sizing: border-box;padding-bottom: 0.4em;background-color: white;}#sk-container-id-1 div.sk-label label {font-family: monospace;font-weight: bold;display: inline-block;line-height: 1.2em;}#sk-container-id-1 div.sk-label-container {text-align: center;}#sk-container-id-1 div.sk-container {/* jupyter's `normalize.less` sets `[hidden] { display: none; }` but bootstrap.min.css set `[hidden] { display: none !important; }` so we also need the `!important` here to be able to override the default hidden behavior on the sphinx rendered scikit-learn.org. See: https://github.com/scikit-learn/scikit-learn/issues/21755 */display: inline-block !important;position: relative;}#sk-container-id-1 div.sk-text-repr-fallback {display: none;}</style><div id=\"sk-container-id-1\" class=\"sk-top-container\"><div class=\"sk-text-repr-fallback\"><pre>KNeighborsClassifier()</pre><b>In a Jupyter environment, please rerun this cell to show the HTML representation or trust the notebook. <br />On GitHub, the HTML representation is unable to render, please try loading this page with nbviewer.org.</b></div><div class=\"sk-container\" hidden><div class=\"sk-item\"><div class=\"sk-estimator sk-toggleable\"><input class=\"sk-toggleable__control sk-hidden--visually\" id=\"sk-estimator-id-1\" type=\"checkbox\" checked><label for=\"sk-estimator-id-1\" class=\"sk-toggleable__label sk-toggleable__label-arrow\">KNeighborsClassifier</label><div class=\"sk-toggleable__content\"><pre>KNeighborsClassifier()</pre></div></div></div></div></div>"
      ],
      "text/plain": [
       "KNeighborsClassifier()"
      ]
     },
     "execution_count": 80,
     "metadata": {},
     "output_type": "execute_result"
    }
   ],
   "source": [
    "from sklearn.neighbors import KNeighborsClassifier\n",
    "\n",
    "target_train_large = (target_train >= 7)\n",
    "target_train_odd = (target_train % 2 == 1)\n",
    "target_multilabel = np.c_[target_train_large, target_train_odd]\n",
    "\n",
    "knn_clf = KNeighborsClassifier()\n",
    "knn_clf.fit(data_train, target_multilabel)"
   ]
  },
  {
   "cell_type": "code",
   "execution_count": 81,
   "id": "e415e72a",
   "metadata": {
    "execution": {
     "iopub.execute_input": "2024-01-30T16:42:07.109201Z",
     "iopub.status.busy": "2024-01-30T16:42:07.108805Z",
     "iopub.status.idle": "2024-01-30T16:42:07.903540Z",
     "shell.execute_reply": "2024-01-30T16:42:07.902351Z"
    },
    "papermill": {
     "duration": 0.828021,
     "end_time": "2024-01-30T16:42:07.906206",
     "exception": false,
     "start_time": "2024-01-30T16:42:07.078185",
     "status": "completed"
    },
    "tags": []
   },
   "outputs": [],
   "source": [
    "noise = np.random.randint(0, 100, (len(data_train), 784))\n",
    "data_train_mod = data_train + noise\n",
    "noise = np.random.randint(0, 100, (len(data_test), 784))\n",
    "data_test_mod = data_test + noise\n",
    "target_train_mod = data_train\n",
    "target_test_mod = data_test"
   ]
  },
  {
   "cell_type": "code",
   "execution_count": 82,
   "id": "48f57f6f",
   "metadata": {
    "execution": {
     "iopub.execute_input": "2024-01-30T16:42:07.966189Z",
     "iopub.status.busy": "2024-01-30T16:42:07.965517Z",
     "iopub.status.idle": "2024-01-30T16:42:08.093301Z",
     "shell.execute_reply": "2024-01-30T16:42:08.092037Z"
    },
    "papermill": {
     "duration": 0.161044,
     "end_time": "2024-01-30T16:42:08.096211",
     "exception": false,
     "start_time": "2024-01-30T16:42:07.935167",
     "status": "completed"
    },
    "tags": []
   },
   "outputs": [
    {
     "data": {
      "image/png": "[encoded data removed]",
      "text/plain": [
       "<Figure size 640x480 with 2 Axes>"
      ]
     },
     "metadata": {},
     "output_type": "display_data"
    }
   ],
   "source": [
    "some_index = 5500\n",
    "plt.subplot(121); plot_digit(data_test_mod[some_index])\n",
    "plt.subplot(122); plot_digit(target_test_mod[some_index])\n",
    "plt.savefig(\"noisy_digit_example_plot\")\n",
    "plt.show()"
   ]
  },
  {
   "cell_type": "code",
   "execution_count": null,
   "id": "8daa7fa5",
   "metadata": {
    "papermill": {
     "duration": 0.043486,
     "end_time": "2024-01-30T16:42:08.189154",
     "exception": false,
     "start_time": "2024-01-30T16:42:08.145668",
     "status": "completed"
    },
    "tags": []
   },
   "outputs": [],
   "source": []
  },
  {
   "cell_type": "code",
   "execution_count": null,
   "id": "3d78b571",
   "metadata": {
    "papermill": {
     "duration": 0.028371,
     "end_time": "2024-01-30T16:42:08.246520",
     "exception": false,
     "start_time": "2024-01-30T16:42:08.218149",
     "status": "completed"
    },
    "tags": []
   },
   "outputs": [],
   "source": []
  },
  {
   "cell_type": "code",
   "execution_count": null,
   "id": "cf387b86",
   "metadata": {
    "papermill": {
     "duration": 0.029056,
     "end_time": "2024-01-30T16:42:08.304109",
     "exception": false,
     "start_time": "2024-01-30T16:42:08.275053",
     "status": "completed"
    },
    "tags": []
   },
   "outputs": [],
   "source": []
  },
  {
   "cell_type": "code",
   "execution_count": null,
   "id": "ce60120c",
   "metadata": {
    "papermill": {
     "duration": 0.028502,
     "end_time": "2024-01-30T16:42:08.361290",
     "exception": false,
     "start_time": "2024-01-30T16:42:08.332788",
     "status": "completed"
    },
    "tags": []
   },
   "outputs": [],
   "source": []
  }
 ],
 "metadata": {
  "kaggle": {
   "accelerator": "none",
   "dataSources": [
    {
     "datasetId": 27352,
     "sourceId": 34877,
     "sourceType": "datasetVersion"
    }
   ],
   "dockerImageVersionId": 30635,
   "isGpuEnabled": false,
   "isInternetEnabled": true,
   "language": "python",
   "sourceType": "notebook"
  },
  "kernelspec": {
   "display_name": "Python 3",
   "language": "python",
   "name": "python3"
  },
  "language_info": {
   "codemirror_mode": {
    "name": "ipython",
    "version": 3
   },
   "file_extension": ".py",
   "mimetype": "text/x-python",
   "name": "python",
   "nbconvert_exporter": "python",
   "pygments_lexer": "ipython3",
   "version": "3.10.12"
  },
  "papermill": {
   "default_parameters": {},
   "duration": 2492.84655,
   "end_time": "2024-01-30T16:42:09.014839",
   "environment_variables": {},
   "exception": null,
   "input_path": "__notebook__.ipynb",
   "output_path": "__notebook__.ipynb",
   "parameters": {},
   "start_time": "2024-01-30T16:00:36.168289",
   "version": "2.4.0"
  }
 },
 "nbformat": 4,
 "nbformat_minor": 5
}
